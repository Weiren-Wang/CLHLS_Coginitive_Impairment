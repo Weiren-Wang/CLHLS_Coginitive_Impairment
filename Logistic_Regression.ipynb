{
 "cells": [
  {
   "cell_type": "code",
   "execution_count": 1,
   "metadata": {},
   "outputs": [],
   "source": [
    "import pandas as pd\n",
    "import numpy as np"
   ]
  },
  {
   "cell_type": "code",
   "execution_count": 2,
   "metadata": {},
   "outputs": [],
   "source": [
    "from get_3year_data import get_period_data\n",
    "from process_data import process_wave_data"
   ]
  },
  {
   "cell_type": "code",
   "execution_count": 3,
   "metadata": {},
   "outputs": [
    {
     "name": "stdout",
     "output_type": "stream",
     "text": [
      "Reading data ...\n",
      "Getting 3 year periods data ...\n",
      "Number of investgated elders situations :  \n",
      "               start year observations  survivor  death  missing\n",
      "2002 to 2005                    16064      8175   5874     2015\n",
      "2005 to 2008                    15638      7472   5228     2938\n",
      "2008 to 2011                    16954      8418   5635     2894\n",
      "2011 to 2014                     9765      6066   2878      820\n",
      "Selecting needed variables ...\n"
     ]
    },
    {
     "name": "stderr",
     "output_type": "stream",
     "text": [
      "/Users/wangweiren/Desktop/腾讯医疗/CLHLS_master/get_3year_data.py:78: SettingWithCopyWarning: \n",
      "A value is trying to be set on a copy of a slice from a DataFrame.\n",
      "Try using .loc[row_indexer,col_indexer] = value instead\n",
      "\n",
      "See the caveats in the documentation: https://pandas.pydata.org/pandas-docs/stable/user_guide/indexing.html#returning-a-view-versus-a-copy\n",
      "  wave_data[column] = pd.to_numeric(wave_data[column],errors = 'coerce')\n",
      "/Users/wangweiren/Desktop/腾讯医疗/CLHLS_master/get_3year_data.py:78: SettingWithCopyWarning: \n",
      "A value is trying to be set on a copy of a slice from a DataFrame.\n",
      "Try using .loc[row_indexer,col_indexer] = value instead\n",
      "\n",
      "See the caveats in the documentation: https://pandas.pydata.org/pandas-docs/stable/user_guide/indexing.html#returning-a-view-versus-a-copy\n",
      "  wave_data[column] = pd.to_numeric(wave_data[column],errors = 'coerce')\n",
      "/Users/wangweiren/Desktop/腾讯医疗/CLHLS_master/get_3year_data.py:78: SettingWithCopyWarning: \n",
      "A value is trying to be set on a copy of a slice from a DataFrame.\n",
      "Try using .loc[row_indexer,col_indexer] = value instead\n",
      "\n",
      "See the caveats in the documentation: https://pandas.pydata.org/pandas-docs/stable/user_guide/indexing.html#returning-a-view-versus-a-copy\n",
      "  wave_data[column] = pd.to_numeric(wave_data[column],errors = 'coerce')\n",
      "/Users/wangweiren/Desktop/腾讯医疗/CLHLS_master/get_3year_data.py:78: SettingWithCopyWarning: \n",
      "A value is trying to be set on a copy of a slice from a DataFrame.\n",
      "Try using .loc[row_indexer,col_indexer] = value instead\n",
      "\n",
      "See the caveats in the documentation: https://pandas.pydata.org/pandas-docs/stable/user_guide/indexing.html#returning-a-view-versus-a-copy\n",
      "  wave_data[column] = pd.to_numeric(wave_data[column],errors = 'coerce')\n"
     ]
    },
    {
     "name": "stdout",
     "output_type": "stream",
     "text": [
      "Filling missing values ...\n",
      "Missing values situation\n",
      "f34         0.29%\n",
      "a43         0.24%\n",
      "d71         0.10%\n",
      "d72         0.13%\n",
      "d81         0.12%\n",
      "d82         0.20%\n",
      "d91         0.15%\n",
      "d92         0.21%\n",
      "d31         0.02%\n",
      "d32         0.07%\n",
      "d11f        0.02%\n",
      "e1          0.20%\n",
      "e5          0.04%\n",
      "e6          0.01%\n",
      "g15a1       0.01%\n",
      "g15b1       0.01%\n",
      "g15c1       0.01%\n",
      "g15d1       0.01%\n",
      "g15e1       0.01%\n",
      "g15f1       0.01%\n",
      "g15g1       0.01%\n",
      "g15h1       0.01%\n",
      "g15i1       0.01%\n",
      "g15j1       0.01%\n",
      "g15k1       0.01%\n",
      "g15l1       0.01%\n",
      "g15m1       0.01%\n",
      "g15n1       0.01%\n",
      "g15o1       0.01%\n",
      "f34_5       0.72%\n",
      "a51_5       0.04%\n",
      "d71_5       0.04%\n",
      "d72_5       0.13%\n",
      "d81_5       0.05%\n",
      "d82_5       0.20%\n",
      "d92_5       0.21%\n",
      "d11b_5      0.01%\n",
      "d11g_5      0.01%\n",
      "d11h_5      0.01%\n",
      "e1_5        0.01%\n",
      "e2_5        0.02%\n",
      "e3_5        0.01%\n",
      "e4_5        0.01%\n",
      "e5_5        0.04%\n",
      "e6_5        0.02%\n",
      "g15a1_5     0.01%\n",
      "g15d1_5     0.01%\n",
      "g15g1_5     0.01%\n",
      "g15h1_5     0.05%\n",
      "g15i1_5     0.09%\n",
      "g15j1_5    54.23%\n",
      "g15k1_5     0.11%\n",
      "g15l1_5     0.04%\n",
      "g15m1_5     0.01%\n",
      "g15n1_5     0.01%\n",
      "dtype: object\n",
      "Samples before drop current MMSE missing :  8175\n",
      "Samples before drop current MMSE missing :  7927\n",
      "Samples before drop later MMSE missing :  7927\n",
      "Samples before drop later MMSE missing :  7271\n",
      "Missing values situation\n",
      "f34         0.36%\n",
      "a43         0.12%\n",
      "a51         0.05%\n",
      "d71         0.01%\n",
      "d72         0.07%\n",
      "d81         0.01%\n",
      "d82         0.11%\n",
      "d92         0.12%\n",
      "d11b        0.01%\n",
      "d11g        0.01%\n",
      "d11h        0.01%\n",
      "e2          0.01%\n",
      "e6          0.01%\n",
      "g15g1       0.01%\n",
      "g15h1       0.03%\n",
      "g15i1       0.12%\n",
      "g15j1      54.52%\n",
      "g15k1       0.12%\n",
      "g15l1       0.01%\n",
      "g15m1       0.01%\n",
      "g15n1       0.01%\n",
      "f34_8       0.32%\n",
      "d72_8       0.07%\n",
      "d75_8      82.49%\n",
      "d82_8       0.11%\n",
      "d86_8      83.54%\n",
      "d91_8       0.01%\n",
      "d92_8       0.12%\n",
      "d31_8       0.01%\n",
      "d32_8       0.01%\n",
      "e1_8        0.01%\n",
      "g15a1_8     0.04%\n",
      "g15b1_8     0.04%\n",
      "g15c1_8     0.01%\n",
      "g15d1_8     0.03%\n",
      "g15e1_8     0.04%\n",
      "g15f1_8     0.03%\n",
      "g15g1_8     0.01%\n",
      "g15h1_8     0.04%\n",
      "g15i1_8     0.15%\n",
      "g15j1_8    54.67%\n",
      "g15k1_8     0.03%\n",
      "g15l1_8     0.03%\n",
      "g15m1_8     0.03%\n",
      "g15n1_8     0.03%\n",
      "g15o1_8     0.01%\n",
      "dtype: object\n",
      "Samples before drop current MMSE missing :  7472\n",
      "Samples before drop current MMSE missing :  7217\n",
      "Samples before drop later MMSE missing :  7217\n",
      "Samples before drop later MMSE missing :  6592\n",
      "Missing values situation\n",
      "f1         0.05%\n",
      "f34        0.21%\n",
      "a41        0.05%\n",
      "a43        0.13%\n",
      "d72        0.08%\n",
      "           ...  \n",
      "c51b_11    0.99%\n",
      "c52_11     0.99%\n",
      "c53a_11    0.91%\n",
      "c53b_11    0.93%\n",
      "c53c_11    0.93%\n",
      "Length: 99, dtype: object\n",
      "Samples before drop current MMSE missing :  8418\n",
      "Samples before drop current MMSE missing :  7951\n",
      "Samples before drop later MMSE missing :  7951\n",
      "Samples before drop later MMSE missing :  7337\n",
      "Missing values situation\n",
      "a2         9.15%\n",
      "f1         0.18%\n",
      "f41        0.74%\n",
      "f34        1.09%\n",
      "a41        9.40%\n",
      "           ...  \n",
      "c51b_14    2.56%\n",
      "c52_14     2.75%\n",
      "c53a_14    2.47%\n",
      "c53b_14    2.51%\n",
      "c53c_14    2.51%\n",
      "Length: 150, dtype: object\n",
      "Samples before drop current MMSE missing :  6066\n",
      "Samples before drop current MMSE missing :  5891\n",
      "Samples before drop later MMSE missing :  5891\n",
      "Samples before drop later MMSE missing :  5417\n",
      "Before drop age<60 : \n",
      "Wave 1:  7271\n",
      "Wave 2:  6592\n",
      "Wave 3:  7337\n",
      "Wave 4:  5417\n",
      "After drop age<60 : \n",
      "Wave 1:  7271\n",
      "Wave 2:  6592\n",
      "Wave 3:  7337\n",
      "Wave 4:  5408\n"
     ]
    }
   ],
   "source": [
    "first_wave_new,second_wave_new,third_wave_new,fourth_wave_new = get_period_data()"
   ]
  },
  {
   "cell_type": "code",
   "execution_count": 4,
   "metadata": {},
   "outputs": [
    {
     "name": "stdout",
     "output_type": "stream",
     "text": [
      "Before drop Depression missing :  7271\n",
      "After drop Depression missing :  6368\n",
      "Before drop Depression missing :  6592\n",
      "After drop Depression missing :  5898\n",
      "Before drop Depression missing :  7337\n",
      "After drop Depression missing :  6354\n",
      "Before drop Depression missing :  5408\n",
      "After drop Depression missing :  4639\n",
      "Processing invariant variables ...\n",
      "Done!\n",
      "Processing invariant variables ...\n",
      "Done!\n",
      "Processing invariant variables ...\n",
      "Done!\n",
      "Processing invariant variables ...\n",
      "Done!\n",
      "Processing variant variables ...\n",
      "Before drop Dementia :  6368\n",
      "After drop Dementia :  6278\n",
      "Done!\n",
      "Processing variant variables ...\n",
      "Before drop Dementia :  5898\n",
      "After drop Dementia :  5830\n",
      "Done!\n",
      "Processing variant variables ...\n",
      "Before drop Dementia :  6354\n",
      "After drop Dementia :  6248\n",
      "Done!\n",
      "Processing variant variables ...\n",
      "Before drop Dementia :  4639\n",
      "After drop Dementia :  4564\n",
      "Done!\n"
     ]
    }
   ],
   "source": [
    "wave1,wave2,wave3,wave4 = process_wave_data(first_wave_new,second_wave_new,third_wave_new,fourth_wave_new)"
   ]
  },
  {
   "cell_type": "markdown",
   "metadata": {},
   "source": [
    "## 合并数据成总的df"
   ]
  },
  {
   "cell_type": "code",
   "execution_count": 5,
   "metadata": {},
   "outputs": [],
   "source": [
    "from get_total_df_for_ML import get_total_df"
   ]
  },
  {
   "cell_type": "code",
   "execution_count": 6,
   "metadata": {},
   "outputs": [
    {
     "name": "stdout",
     "output_type": "stream",
     "text": [
      "6278 5830 6248 4564\n",
      "22920\n"
     ]
    }
   ],
   "source": [
    "total_df = get_total_df(wave1,wave2,wave3,wave4)"
   ]
  },
  {
   "cell_type": "code",
   "execution_count": 7,
   "metadata": {},
   "outputs": [
    {
     "data": {
      "text/plain": [
       "22920"
      ]
     },
     "execution_count": 7,
     "metadata": {},
     "output_type": "execute_result"
    }
   ],
   "source": [
    "len(total_df)"
   ]
  },
  {
   "cell_type": "markdown",
   "metadata": {},
   "source": [
    "## 计算三年间diff变量，获取各组变量包含的变量名"
   ]
  },
  {
   "cell_type": "code",
   "execution_count": 8,
   "metadata": {},
   "outputs": [],
   "source": [
    "from get_current_diff_var import get_current_diff_variable_list"
   ]
  },
  {
   "cell_type": "code",
   "execution_count": 9,
   "metadata": {},
   "outputs": [
    {
     "name": "stdout",
     "output_type": "stream",
     "text": [
      "Creating diff variables based on current variables and 3 years later variables ...\n",
      "Done!\n"
     ]
    }
   ],
   "source": [
    "_,diff_var = get_current_diff_variable_list(total_df)"
   ]
  },
  {
   "cell_type": "code",
   "execution_count": 10,
   "metadata": {},
   "outputs": [],
   "source": [
    "for var in list(filter(lambda x:True if x[:3]=='std' else False,diff_var))+['hypertension_diff','ADL_diff','Parkinson_diff','agegroup_diff', 'depression_score_diff','diabetes_diff','stoke_CVD_diff','co-habitation_diff', 'economy_status_diff']:\n",
    "    diff_var.remove(var)"
   ]
  },
  {
   "cell_type": "markdown",
   "metadata": {},
   "source": [
    "# Logistic Regression"
   ]
  },
  {
   "cell_type": "code",
   "execution_count": 11,
   "metadata": {},
   "outputs": [],
   "source": [
    "from logistic_regression import logistic_regression"
   ]
  },
  {
   "cell_type": "code",
   "execution_count": 12,
   "metadata": {},
   "outputs": [],
   "source": [
    "pd.set_option('display.max_rows',200)\n",
    "pd.set_option('display.float_format',lambda x:'%.3f' %x)"
   ]
  },
  {
   "cell_type": "code",
   "execution_count": 13,
   "metadata": {},
   "outputs": [],
   "source": [
    "total_df_for_logit = total_df.copy()\n",
    "for col in total_df_for_logit.columns:\n",
    "    total_df_for_logit[col] = pd.to_numeric(total_df_for_logit[col],downcast='float')"
   ]
  },
  {
   "cell_type": "markdown",
   "metadata": {},
   "source": [
    "#### Logistic Regression 2\n",
    "    X: three year before information\n",
    "    Y: three year after cognitive impairment"
   ]
  },
  {
   "cell_type": "code",
   "execution_count": 14,
   "metadata": {},
   "outputs": [],
   "source": [
    "current_variables = ['gender',  'ADL', 'education', 'agegroup', 'std_plant_flower_bird', 'std_read_news_books', 'std_majong_or_cards', 'std_tv_or_radio', 'current_CI_score']"
   ]
  },
  {
   "cell_type": "code",
   "execution_count": 15,
   "metadata": {},
   "outputs": [
    {
     "name": "stdout",
     "output_type": "stream",
     "text": [
      "Optimization terminated successfully.\n",
      "         Current function value: 0.239832\n",
      "         Iterations 8\n",
      "Optimization terminated successfully.\n",
      "         Current function value: 0.333937\n",
      "         Iterations 8\n"
     ]
    }
   ],
   "source": [
    "logit_var1 = current_variables+ ['later_CI']\n",
    "logit_df1 = total_df_for_logit[logit_var1]\n",
    "cat_vars = ['education','agegroup']\n",
    "res1 = logistic_regression(logit_df1,'later_CI',cat_vars)"
   ]
  },
  {
   "cell_type": "code",
   "execution_count": 16,
   "metadata": {},
   "outputs": [],
   "source": [
    "def get_OR(x):\n",
    "    return str('%.2f' %x['OddRatio'])+'('+str('%.2f' %x['95%lower']) +','+str('%.2f' %x['95%upper']) + ')'"
   ]
  },
  {
   "cell_type": "code",
   "execution_count": 17,
   "metadata": {},
   "outputs": [
    {
     "data": {
      "text/html": [
       "<div>\n",
       "<style scoped>\n",
       "    .dataframe tbody tr th:only-of-type {\n",
       "        vertical-align: middle;\n",
       "    }\n",
       "\n",
       "    .dataframe tbody tr th {\n",
       "        vertical-align: top;\n",
       "    }\n",
       "\n",
       "    .dataframe thead th {\n",
       "        text-align: right;\n",
       "    }\n",
       "</style>\n",
       "<table border=\"1\" class=\"dataframe\">\n",
       "  <thead>\n",
       "    <tr style=\"text-align: right;\">\n",
       "      <th></th>\n",
       "      <th>Variable</th>\n",
       "      <th>Num of samples</th>\n",
       "      <th>OR</th>\n",
       "      <th>pvalues</th>\n",
       "    </tr>\n",
       "  </thead>\n",
       "  <tbody>\n",
       "    <tr>\n",
       "      <th>0</th>\n",
       "      <td>gender</td>\n",
       "      <td>11171</td>\n",
       "      <td>0.73(0.64,0.82)</td>\n",
       "      <td>0.000</td>\n",
       "    </tr>\n",
       "    <tr>\n",
       "      <th>1</th>\n",
       "      <td>ADL</td>\n",
       "      <td>2010</td>\n",
       "      <td>1.25(1.10,1.44)</td>\n",
       "      <td>0.001</td>\n",
       "    </tr>\n",
       "    <tr>\n",
       "      <th>2</th>\n",
       "      <td>std_plant_flower_bird</td>\n",
       "      <td>4326</td>\n",
       "      <td>0.75(0.63,0.89)</td>\n",
       "      <td>0.001</td>\n",
       "    </tr>\n",
       "    <tr>\n",
       "      <th>3</th>\n",
       "      <td>std_read_news_books</td>\n",
       "      <td>6094</td>\n",
       "      <td>0.80(0.67,0.97)</td>\n",
       "      <td>0.023</td>\n",
       "    </tr>\n",
       "    <tr>\n",
       "      <th>4</th>\n",
       "      <td>std_majong_or_cards</td>\n",
       "      <td>1873</td>\n",
       "      <td>0.69(0.53,0.90)</td>\n",
       "      <td>0.006</td>\n",
       "    </tr>\n",
       "    <tr>\n",
       "      <th>5</th>\n",
       "      <td>std_tv_or_radio</td>\n",
       "      <td>18579</td>\n",
       "      <td>0.72(0.64,0.80)</td>\n",
       "      <td>0.000</td>\n",
       "    </tr>\n",
       "    <tr>\n",
       "      <th>6</th>\n",
       "      <td>current_CI_score</td>\n",
       "      <td>3</td>\n",
       "      <td>0.90(0.89,0.90)</td>\n",
       "      <td>0.000</td>\n",
       "    </tr>\n",
       "    <tr>\n",
       "      <th>7</th>\n",
       "      <td>education_1.0</td>\n",
       "      <td>7938</td>\n",
       "      <td>0.66(0.58,0.77)</td>\n",
       "      <td>0.000</td>\n",
       "    </tr>\n",
       "    <tr>\n",
       "      <th>8</th>\n",
       "      <td>education_2.0</td>\n",
       "      <td>3115</td>\n",
       "      <td>0.60(0.47,0.77)</td>\n",
       "      <td>0.000</td>\n",
       "    </tr>\n",
       "    <tr>\n",
       "      <th>9</th>\n",
       "      <td>agegroup_1.0</td>\n",
       "      <td>7105</td>\n",
       "      <td>2.06(1.78,2.38)</td>\n",
       "      <td>0.000</td>\n",
       "    </tr>\n",
       "    <tr>\n",
       "      <th>10</th>\n",
       "      <td>agegroup_2.0</td>\n",
       "      <td>5019</td>\n",
       "      <td>4.27(3.73,4.87)</td>\n",
       "      <td>0.000</td>\n",
       "    </tr>\n",
       "    <tr>\n",
       "      <th>11</th>\n",
       "      <td>agegroup_3.0</td>\n",
       "      <td>1687</td>\n",
       "      <td>6.73(5.76,7.86)</td>\n",
       "      <td>0.000</td>\n",
       "    </tr>\n",
       "  </tbody>\n",
       "</table>\n",
       "</div>"
      ],
      "text/plain": [
       "                 Variable  Num of samples               OR  pvalues\n",
       "0                  gender           11171  0.73(0.64,0.82)    0.000\n",
       "1                     ADL            2010  1.25(1.10,1.44)    0.001\n",
       "2   std_plant_flower_bird            4326  0.75(0.63,0.89)    0.001\n",
       "3     std_read_news_books            6094  0.80(0.67,0.97)    0.023\n",
       "4     std_majong_or_cards            1873  0.69(0.53,0.90)    0.006\n",
       "5         std_tv_or_radio           18579  0.72(0.64,0.80)    0.000\n",
       "6        current_CI_score               3  0.90(0.89,0.90)    0.000\n",
       "7           education_1.0            7938  0.66(0.58,0.77)    0.000\n",
       "8           education_2.0            3115  0.60(0.47,0.77)    0.000\n",
       "9            agegroup_1.0            7105  2.06(1.78,2.38)    0.000\n",
       "10           agegroup_2.0            5019  4.27(3.73,4.87)    0.000\n",
       "11           agegroup_3.0            1687  6.73(5.76,7.86)    0.000"
      ]
     },
     "execution_count": 17,
     "metadata": {},
     "output_type": "execute_result"
    }
   ],
   "source": [
    "params1 = res1['params']\n",
    "params1['OR'] = params1.apply(lambda x:get_OR(x),axis = 1)\n",
    "output1 = params1[['Variable','Num of samples','OR','pvalues']]\n",
    "output1"
   ]
  },
  {
   "cell_type": "markdown",
   "metadata": {},
   "source": [
    "#### Logistic Regression 2\n",
    "    X: three year before information + changed behaviors during 3 years\n",
    "    Y: three year after cognitive impairment"
   ]
  },
  {
   "cell_type": "code",
   "execution_count": 18,
   "metadata": {},
   "outputs": [],
   "source": [
    "diff_var = ['tv_or_radio_diff','plant_flower_bird_diff','majong_or_cards_diff','read_news_books_diff']"
   ]
  },
  {
   "cell_type": "code",
   "execution_count": 19,
   "metadata": {},
   "outputs": [
    {
     "name": "stdout",
     "output_type": "stream",
     "text": [
      "Standardizing diff variables ...\n",
      "Standardize diff variables done!\n",
      "Optimization terminated successfully.\n",
      "         Current function value: 0.229846\n",
      "         Iterations 9\n",
      "majong_or_cards_diff_-1.0\n",
      "read_news_books_diff_-1.0\n",
      "plant_flower_bird_diff_-1.0\n",
      "tv_or_radio_diff_-1.0\n",
      "Optimization terminated successfully.\n",
      "         Current function value: 0.290907\n",
      "         Iterations 8\n"
     ]
    }
   ],
   "source": [
    "logit_var2 = current_variables + diff_var + ['later_CI']\n",
    "logit_df2 = total_df_for_logit[logit_var2]\n",
    "cat_vars2 = cat_vars + ['exercise_diff','eat_fruits_diff','eat_vegs_diff','majong_or_cards_diff','outdoor_activity_diff','plant_flower_bird_diff','raise_domestic_animals_diff','read_news_books_diff','tv_or_radio_diff']\n",
    "cat_vars2 = list(set(cat_vars2)&set(logit_var2))\n",
    "res2 = logistic_regression(logit_df2,'later_CI',cat_vars2,standardized_diff = True)"
   ]
  },
  {
   "cell_type": "code",
   "execution_count": 20,
   "metadata": {},
   "outputs": [],
   "source": [
    "params2 = res2['params']\n",
    "params2['OR'] = params2.apply(lambda x:get_OR(x),axis = 1)\n",
    "output2 = params2[['Variable','Num of samples','OR','pvalues']]\n",
    "output2.set_index('Variable',inplace = True)"
   ]
  },
  {
   "cell_type": "code",
   "execution_count": 21,
   "metadata": {},
   "outputs": [
    {
     "data": {
      "text/html": [
       "<div>\n",
       "<style scoped>\n",
       "    .dataframe tbody tr th:only-of-type {\n",
       "        vertical-align: middle;\n",
       "    }\n",
       "\n",
       "    .dataframe tbody tr th {\n",
       "        vertical-align: top;\n",
       "    }\n",
       "\n",
       "    .dataframe thead th {\n",
       "        text-align: right;\n",
       "    }\n",
       "</style>\n",
       "<table border=\"1\" class=\"dataframe\">\n",
       "  <thead>\n",
       "    <tr style=\"text-align: right;\">\n",
       "      <th></th>\n",
       "      <th>Num of samples</th>\n",
       "      <th>OR</th>\n",
       "      <th>pvalues</th>\n",
       "    </tr>\n",
       "    <tr>\n",
       "      <th>Variable</th>\n",
       "      <th></th>\n",
       "      <th></th>\n",
       "      <th></th>\n",
       "    </tr>\n",
       "  </thead>\n",
       "  <tbody>\n",
       "    <tr>\n",
       "      <th>gender</th>\n",
       "      <td>11171</td>\n",
       "      <td>0.78(0.69,0.88)</td>\n",
       "      <td>0.000</td>\n",
       "    </tr>\n",
       "    <tr>\n",
       "      <th>ADL</th>\n",
       "      <td>2010</td>\n",
       "      <td>1.27(1.11,1.46)</td>\n",
       "      <td>0.001</td>\n",
       "    </tr>\n",
       "    <tr>\n",
       "      <th>std_plant_flower_bird</th>\n",
       "      <td>4326</td>\n",
       "      <td>0.62(0.47,0.82)</td>\n",
       "      <td>0.001</td>\n",
       "    </tr>\n",
       "    <tr>\n",
       "      <th>std_read_news_books</th>\n",
       "      <td>6094</td>\n",
       "      <td>0.25(0.15,0.40)</td>\n",
       "      <td>0.000</td>\n",
       "    </tr>\n",
       "    <tr>\n",
       "      <th>std_majong_or_cards</th>\n",
       "      <td>1873</td>\n",
       "      <td>0.59(0.44,0.79)</td>\n",
       "      <td>0.000</td>\n",
       "    </tr>\n",
       "    <tr>\n",
       "      <th>std_tv_or_radio</th>\n",
       "      <td>18579</td>\n",
       "      <td>0.42(0.36,0.48)</td>\n",
       "      <td>0.000</td>\n",
       "    </tr>\n",
       "    <tr>\n",
       "      <th>current_CI_score</th>\n",
       "      <td>3</td>\n",
       "      <td>0.91(0.90,0.91)</td>\n",
       "      <td>0.000</td>\n",
       "    </tr>\n",
       "    <tr>\n",
       "      <th>education_1.0</th>\n",
       "      <td>7938</td>\n",
       "      <td>0.71(0.62,0.82)</td>\n",
       "      <td>0.000</td>\n",
       "    </tr>\n",
       "    <tr>\n",
       "      <th>education_2.0</th>\n",
       "      <td>3115</td>\n",
       "      <td>0.79(0.61,1.03)</td>\n",
       "      <td>0.079</td>\n",
       "    </tr>\n",
       "    <tr>\n",
       "      <th>agegroup_1.0</th>\n",
       "      <td>7105</td>\n",
       "      <td>2.04(1.75,2.38)</td>\n",
       "      <td>0.000</td>\n",
       "    </tr>\n",
       "    <tr>\n",
       "      <th>agegroup_2.0</th>\n",
       "      <td>5019</td>\n",
       "      <td>3.93(3.42,4.52)</td>\n",
       "      <td>0.000</td>\n",
       "    </tr>\n",
       "    <tr>\n",
       "      <th>agegroup_3.0</th>\n",
       "      <td>1687</td>\n",
       "      <td>6.01(5.11,7.05)</td>\n",
       "      <td>0.000</td>\n",
       "    </tr>\n",
       "  </tbody>\n",
       "</table>\n",
       "</div>"
      ],
      "text/plain": [
       "                       Num of samples               OR  pvalues\n",
       "Variable                                                       \n",
       "gender                          11171  0.78(0.69,0.88)    0.000\n",
       "ADL                              2010  1.27(1.11,1.46)    0.001\n",
       "std_plant_flower_bird            4326  0.62(0.47,0.82)    0.001\n",
       "std_read_news_books              6094  0.25(0.15,0.40)    0.000\n",
       "std_majong_or_cards              1873  0.59(0.44,0.79)    0.000\n",
       "std_tv_or_radio                 18579  0.42(0.36,0.48)    0.000\n",
       "current_CI_score                    3  0.91(0.90,0.91)    0.000\n",
       "education_1.0                    7938  0.71(0.62,0.82)    0.000\n",
       "education_2.0                    3115  0.79(0.61,1.03)    0.079\n",
       "agegroup_1.0                     7105  2.04(1.75,2.38)    0.000\n",
       "agegroup_2.0                     5019  3.93(3.42,4.52)    0.000\n",
       "agegroup_3.0                     1687  6.01(5.11,7.05)    0.000"
      ]
     },
     "execution_count": 21,
     "metadata": {},
     "output_type": "execute_result"
    }
   ],
   "source": [
    "output2.loc[list(output1.Variable),:]"
   ]
  },
  {
   "cell_type": "code",
   "execution_count": 22,
   "metadata": {},
   "outputs": [
    {
     "data": {
      "text/html": [
       "<div>\n",
       "<style scoped>\n",
       "    .dataframe tbody tr th:only-of-type {\n",
       "        vertical-align: middle;\n",
       "    }\n",
       "\n",
       "    .dataframe tbody tr th {\n",
       "        vertical-align: top;\n",
       "    }\n",
       "\n",
       "    .dataframe thead th {\n",
       "        text-align: right;\n",
       "    }\n",
       "</style>\n",
       "<table border=\"1\" class=\"dataframe\">\n",
       "  <thead>\n",
       "    <tr style=\"text-align: right;\">\n",
       "      <th></th>\n",
       "      <th>Num of samples</th>\n",
       "      <th>OR</th>\n",
       "      <th>pvalues</th>\n",
       "    </tr>\n",
       "    <tr>\n",
       "      <th>Variable</th>\n",
       "      <th></th>\n",
       "      <th></th>\n",
       "      <th></th>\n",
       "    </tr>\n",
       "  </thead>\n",
       "  <tbody>\n",
       "    <tr>\n",
       "      <th>majong_or_cards_diff_-1.0</th>\n",
       "      <td>3341</td>\n",
       "      <td>1.27(1.06,1.51)</td>\n",
       "      <td>0.009</td>\n",
       "    </tr>\n",
       "    <tr>\n",
       "      <th>majong_or_cards_diff_1.0</th>\n",
       "      <td>2629</td>\n",
       "      <td>0.49(0.38,0.64)</td>\n",
       "      <td>0.000</td>\n",
       "    </tr>\n",
       "    <tr>\n",
       "      <th>plant_flower_bird_diff_-1.0</th>\n",
       "      <td>3315</td>\n",
       "      <td>1.36(1.04,1.77)</td>\n",
       "      <td>0.026</td>\n",
       "    </tr>\n",
       "    <tr>\n",
       "      <th>plant_flower_bird_diff_1.0</th>\n",
       "      <td>3200</td>\n",
       "      <td>0.54(0.43,0.68)</td>\n",
       "      <td>0.000</td>\n",
       "    </tr>\n",
       "    <tr>\n",
       "      <th>read_news_books_diff_-1.0</th>\n",
       "      <td>3166</td>\n",
       "      <td>4.18(2.55,6.83)</td>\n",
       "      <td>0.000</td>\n",
       "    </tr>\n",
       "    <tr>\n",
       "      <th>read_news_books_diff_1.0</th>\n",
       "      <td>2555</td>\n",
       "      <td>0.79(0.61,1.03)</td>\n",
       "      <td>0.085</td>\n",
       "    </tr>\n",
       "    <tr>\n",
       "      <th>tv_or_radio_diff_-1.0</th>\n",
       "      <td>5503</td>\n",
       "      <td>2.27(1.99,2.60)</td>\n",
       "      <td>0.000</td>\n",
       "    </tr>\n",
       "    <tr>\n",
       "      <th>tv_or_radio_diff_1.0</th>\n",
       "      <td>4811</td>\n",
       "      <td>0.67(0.59,0.77)</td>\n",
       "      <td>0.000</td>\n",
       "    </tr>\n",
       "  </tbody>\n",
       "</table>\n",
       "</div>"
      ],
      "text/plain": [
       "                             Num of samples               OR  pvalues\n",
       "Variable                                                             \n",
       "majong_or_cards_diff_-1.0              3341  1.27(1.06,1.51)    0.009\n",
       "majong_or_cards_diff_1.0               2629  0.49(0.38,0.64)    0.000\n",
       "plant_flower_bird_diff_-1.0            3315  1.36(1.04,1.77)    0.026\n",
       "plant_flower_bird_diff_1.0             3200  0.54(0.43,0.68)    0.000\n",
       "read_news_books_diff_-1.0              3166  4.18(2.55,6.83)    0.000\n",
       "read_news_books_diff_1.0               2555  0.79(0.61,1.03)    0.085\n",
       "tv_or_radio_diff_-1.0                  5503  2.27(1.99,2.60)    0.000\n",
       "tv_or_radio_diff_1.0                   4811  0.67(0.59,0.77)    0.000"
      ]
     },
     "execution_count": 22,
     "metadata": {},
     "output_type": "execute_result"
    }
   ],
   "source": [
    "output2.loc[list(set(output2.index)-set(output1.Variable)),:].sort_values(by = 'Variable')"
   ]
  },
  {
   "cell_type": "code",
   "execution_count": 23,
   "metadata": {},
   "outputs": [],
   "source": [
    "diff_variables_pos = list(filter(lambda x:True if 'diff' in x and x[-4:] == '_1.0' else False,list(output2.index)))"
   ]
  },
  {
   "cell_type": "code",
   "execution_count": 24,
   "metadata": {},
   "outputs": [
    {
     "data": {
      "text/html": [
       "<div>\n",
       "<style scoped>\n",
       "    .dataframe tbody tr th:only-of-type {\n",
       "        vertical-align: middle;\n",
       "    }\n",
       "\n",
       "    .dataframe tbody tr th {\n",
       "        vertical-align: top;\n",
       "    }\n",
       "\n",
       "    .dataframe thead th {\n",
       "        text-align: right;\n",
       "    }\n",
       "</style>\n",
       "<table border=\"1\" class=\"dataframe\">\n",
       "  <thead>\n",
       "    <tr style=\"text-align: right;\">\n",
       "      <th></th>\n",
       "      <th>Num of samples</th>\n",
       "      <th>OR</th>\n",
       "      <th>pvalues</th>\n",
       "    </tr>\n",
       "    <tr>\n",
       "      <th>Variable</th>\n",
       "      <th></th>\n",
       "      <th></th>\n",
       "      <th></th>\n",
       "    </tr>\n",
       "  </thead>\n",
       "  <tbody>\n",
       "    <tr>\n",
       "      <th>majong_or_cards_diff_1.0</th>\n",
       "      <td>2629</td>\n",
       "      <td>0.49(0.38,0.64)</td>\n",
       "      <td>0.000</td>\n",
       "    </tr>\n",
       "    <tr>\n",
       "      <th>plant_flower_bird_diff_1.0</th>\n",
       "      <td>3200</td>\n",
       "      <td>0.54(0.43,0.68)</td>\n",
       "      <td>0.000</td>\n",
       "    </tr>\n",
       "    <tr>\n",
       "      <th>tv_or_radio_diff_1.0</th>\n",
       "      <td>4811</td>\n",
       "      <td>0.67(0.59,0.77)</td>\n",
       "      <td>0.000</td>\n",
       "    </tr>\n",
       "  </tbody>\n",
       "</table>\n",
       "</div>"
      ],
      "text/plain": [
       "                            Num of samples               OR  pvalues\n",
       "Variable                                                            \n",
       "majong_or_cards_diff_1.0              2629  0.49(0.38,0.64)    0.000\n",
       "plant_flower_bird_diff_1.0            3200  0.54(0.43,0.68)    0.000\n",
       "tv_or_radio_diff_1.0                  4811  0.67(0.59,0.77)    0.000"
      ]
     },
     "execution_count": 24,
     "metadata": {},
     "output_type": "execute_result"
    }
   ],
   "source": [
    "significant_pos_diff = output2.loc[diff_variables_pos,:].query('pvalues<0.05')\n",
    "significant_pos_diff"
   ]
  },
  {
   "cell_type": "code",
   "execution_count": 25,
   "metadata": {},
   "outputs": [],
   "source": [
    "need_divide_diff = list(map(lambda x:x[:-4],list(significant_pos_diff.index)))\n",
    "if 'exercise_diff' in need_divide_diff:\n",
    "    need_divide_diff.remove('exercise_diff')"
   ]
  },
  {
   "cell_type": "markdown",
   "metadata": {},
   "source": [
    "#### Logistic Regression 3\n",
    "    X: three year before information + detailed changed behaviors during 3 years\n",
    "    Y: three year after cognitive impairment"
   ]
  },
  {
   "cell_type": "code",
   "execution_count": 26,
   "metadata": {},
   "outputs": [],
   "source": [
    "def divide_significant_diff(x):\n",
    "    return x if x>=0 else -1"
   ]
  },
  {
   "cell_type": "code",
   "execution_count": 27,
   "metadata": {},
   "outputs": [],
   "source": [
    "def divide_significant_diff(x):\n",
    "    if x < 0:return -1\n",
    "    if x == 0:return 0\n",
    "    if x == 1:return 1\n",
    "    if x == 2:return 1\n",
    "    if x == 3:return 2\n",
    "    if x == 4:return 2"
   ]
  },
  {
   "cell_type": "code",
   "execution_count": 28,
   "metadata": {},
   "outputs": [],
   "source": [
    "logit_df3 = logit_df2.copy()\n",
    "for var in need_divide_diff:\n",
    "    logit_df3[var] = logit_df3[var].apply(lambda x:divide_significant_diff(x))"
   ]
  },
  {
   "cell_type": "code",
   "execution_count": 29,
   "metadata": {},
   "outputs": [],
   "source": [
    "var3 = need_divide_diff + current_variables\n",
    "var3.append('later_CI')\n",
    "logit_df3 = logit_df3.loc[:,var3]\n",
    "cat_vars3 = [ 'education', 'agegroup'] + need_divide_diff"
   ]
  },
  {
   "cell_type": "code",
   "execution_count": 30,
   "metadata": {},
   "outputs": [],
   "source": [
    "for var in need_divide_diff:\n",
    "    logit_df3 = logit_df3[logit_df3[var]!=5]"
   ]
  },
  {
   "cell_type": "code",
   "execution_count": 31,
   "metadata": {},
   "outputs": [
    {
     "name": "stdout",
     "output_type": "stream",
     "text": [
      "Optimization terminated successfully.\n",
      "         Current function value: 0.230329\n",
      "         Iterations 8\n",
      "majong_or_cards_diff_-1.0\n",
      "plant_flower_bird_diff_-1.0\n",
      "tv_or_radio_diff_-1.0\n",
      "Optimization terminated successfully.\n",
      "         Current function value: 0.295517\n",
      "         Iterations 8\n"
     ]
    }
   ],
   "source": [
    "res4 = logistic_regression(logit_df3,'later_CI',cat_vars3)"
   ]
  },
  {
   "cell_type": "code",
   "execution_count": 32,
   "metadata": {},
   "outputs": [],
   "source": [
    "params3 = res4['params']\n",
    "params3['OR'] = params3.apply(lambda x:get_OR(x),axis = 1)\n",
    "output3 = params3[['Variable','Num of samples','OR','pvalues']]\n",
    "output3.set_index('Variable',inplace = True)"
   ]
  },
  {
   "cell_type": "code",
   "execution_count": 33,
   "metadata": {},
   "outputs": [
    {
     "data": {
      "text/html": [
       "<div>\n",
       "<style scoped>\n",
       "    .dataframe tbody tr th:only-of-type {\n",
       "        vertical-align: middle;\n",
       "    }\n",
       "\n",
       "    .dataframe tbody tr th {\n",
       "        vertical-align: top;\n",
       "    }\n",
       "\n",
       "    .dataframe thead th {\n",
       "        text-align: right;\n",
       "    }\n",
       "</style>\n",
       "<table border=\"1\" class=\"dataframe\">\n",
       "  <thead>\n",
       "    <tr style=\"text-align: right;\">\n",
       "      <th></th>\n",
       "      <th>Num of samples</th>\n",
       "      <th>OR</th>\n",
       "      <th>pvalues</th>\n",
       "    </tr>\n",
       "    <tr>\n",
       "      <th>Variable</th>\n",
       "      <th></th>\n",
       "      <th></th>\n",
       "      <th></th>\n",
       "    </tr>\n",
       "  </thead>\n",
       "  <tbody>\n",
       "    <tr>\n",
       "      <th>gender</th>\n",
       "      <td>11171</td>\n",
       "      <td>0.76(0.68,0.86)</td>\n",
       "      <td>0.000</td>\n",
       "    </tr>\n",
       "    <tr>\n",
       "      <th>ADL</th>\n",
       "      <td>2010</td>\n",
       "      <td>1.29(1.13,1.48)</td>\n",
       "      <td>0.000</td>\n",
       "    </tr>\n",
       "    <tr>\n",
       "      <th>std_plant_flower_bird</th>\n",
       "      <td>4326</td>\n",
       "      <td>0.58(0.45,0.77)</td>\n",
       "      <td>0.000</td>\n",
       "    </tr>\n",
       "    <tr>\n",
       "      <th>std_read_news_books</th>\n",
       "      <td>6094</td>\n",
       "      <td>0.81(0.67,0.98)</td>\n",
       "      <td>0.031</td>\n",
       "    </tr>\n",
       "    <tr>\n",
       "      <th>std_majong_or_cards</th>\n",
       "      <td>1873</td>\n",
       "      <td>0.59(0.44,0.79)</td>\n",
       "      <td>0.000</td>\n",
       "    </tr>\n",
       "    <tr>\n",
       "      <th>std_tv_or_radio</th>\n",
       "      <td>18579</td>\n",
       "      <td>0.37(0.32,0.42)</td>\n",
       "      <td>0.000</td>\n",
       "    </tr>\n",
       "    <tr>\n",
       "      <th>current_CI_score</th>\n",
       "      <td>3</td>\n",
       "      <td>0.91(0.90,0.91)</td>\n",
       "      <td>0.000</td>\n",
       "    </tr>\n",
       "    <tr>\n",
       "      <th>education_1.0</th>\n",
       "      <td>7938</td>\n",
       "      <td>0.71(0.61,0.82)</td>\n",
       "      <td>0.000</td>\n",
       "    </tr>\n",
       "    <tr>\n",
       "      <th>education_2.0</th>\n",
       "      <td>3115</td>\n",
       "      <td>0.69(0.53,0.89)</td>\n",
       "      <td>0.004</td>\n",
       "    </tr>\n",
       "    <tr>\n",
       "      <th>agegroup_1.0</th>\n",
       "      <td>7105</td>\n",
       "      <td>2.06(1.77,2.40)</td>\n",
       "      <td>0.000</td>\n",
       "    </tr>\n",
       "    <tr>\n",
       "      <th>agegroup_2.0</th>\n",
       "      <td>5019</td>\n",
       "      <td>3.99(3.47,4.58)</td>\n",
       "      <td>0.000</td>\n",
       "    </tr>\n",
       "    <tr>\n",
       "      <th>agegroup_3.0</th>\n",
       "      <td>1687</td>\n",
       "      <td>6.08(5.18,7.15)</td>\n",
       "      <td>0.000</td>\n",
       "    </tr>\n",
       "  </tbody>\n",
       "</table>\n",
       "</div>"
      ],
      "text/plain": [
       "                       Num of samples               OR  pvalues\n",
       "Variable                                                       \n",
       "gender                          11171  0.76(0.68,0.86)    0.000\n",
       "ADL                              2010  1.29(1.13,1.48)    0.000\n",
       "std_plant_flower_bird            4326  0.58(0.45,0.77)    0.000\n",
       "std_read_news_books              6094  0.81(0.67,0.98)    0.031\n",
       "std_majong_or_cards              1873  0.59(0.44,0.79)    0.000\n",
       "std_tv_or_radio                 18579  0.37(0.32,0.42)    0.000\n",
       "current_CI_score                    3  0.91(0.90,0.91)    0.000\n",
       "education_1.0                    7938  0.71(0.61,0.82)    0.000\n",
       "education_2.0                    3115  0.69(0.53,0.89)    0.004\n",
       "agegroup_1.0                     7105  2.06(1.77,2.40)    0.000\n",
       "agegroup_2.0                     5019  3.99(3.47,4.58)    0.000\n",
       "agegroup_3.0                     1687  6.08(5.18,7.15)    0.000"
      ]
     },
     "execution_count": 33,
     "metadata": {},
     "output_type": "execute_result"
    }
   ],
   "source": [
    "output3.loc[list(output1.Variable),:]"
   ]
  },
  {
   "cell_type": "code",
   "execution_count": 34,
   "metadata": {},
   "outputs": [
    {
     "data": {
      "text/html": [
       "<div>\n",
       "<style scoped>\n",
       "    .dataframe tbody tr th:only-of-type {\n",
       "        vertical-align: middle;\n",
       "    }\n",
       "\n",
       "    .dataframe tbody tr th {\n",
       "        vertical-align: top;\n",
       "    }\n",
       "\n",
       "    .dataframe thead th {\n",
       "        text-align: right;\n",
       "    }\n",
       "</style>\n",
       "<table border=\"1\" class=\"dataframe\">\n",
       "  <thead>\n",
       "    <tr style=\"text-align: right;\">\n",
       "      <th></th>\n",
       "      <th>Num of samples</th>\n",
       "      <th>OR</th>\n",
       "      <th>pvalues</th>\n",
       "    </tr>\n",
       "    <tr>\n",
       "      <th>Variable</th>\n",
       "      <th></th>\n",
       "      <th></th>\n",
       "      <th></th>\n",
       "    </tr>\n",
       "  </thead>\n",
       "  <tbody>\n",
       "    <tr>\n",
       "      <th>majong_or_cards_diff_-1.0</th>\n",
       "      <td>3341</td>\n",
       "      <td>1.29(1.08,1.53)</td>\n",
       "      <td>0.005</td>\n",
       "    </tr>\n",
       "    <tr>\n",
       "      <th>majong_or_cards_diff_1.0</th>\n",
       "      <td>1499</td>\n",
       "      <td>0.58(0.42,0.81)</td>\n",
       "      <td>0.001</td>\n",
       "    </tr>\n",
       "    <tr>\n",
       "      <th>majong_or_cards_diff_2.0</th>\n",
       "      <td>1129</td>\n",
       "      <td>0.37(0.24,0.56)</td>\n",
       "      <td>0.000</td>\n",
       "    </tr>\n",
       "    <tr>\n",
       "      <th>plant_flower_bird_diff_-1.0</th>\n",
       "      <td>3315</td>\n",
       "      <td>1.44(1.11,1.87)</td>\n",
       "      <td>0.006</td>\n",
       "    </tr>\n",
       "    <tr>\n",
       "      <th>plant_flower_bird_diff_1.0</th>\n",
       "      <td>1003</td>\n",
       "      <td>0.61(0.43,0.87)</td>\n",
       "      <td>0.006</td>\n",
       "    </tr>\n",
       "    <tr>\n",
       "      <th>plant_flower_bird_diff_2.0</th>\n",
       "      <td>2196</td>\n",
       "      <td>0.47(0.36,0.62)</td>\n",
       "      <td>0.000</td>\n",
       "    </tr>\n",
       "    <tr>\n",
       "      <th>tv_or_radio_diff_-1.0</th>\n",
       "      <td>5503</td>\n",
       "      <td>2.51(2.19,2.87)</td>\n",
       "      <td>0.000</td>\n",
       "    </tr>\n",
       "    <tr>\n",
       "      <th>tv_or_radio_diff_1.0</th>\n",
       "      <td>2569</td>\n",
       "      <td>0.91(0.76,1.09)</td>\n",
       "      <td>0.314</td>\n",
       "    </tr>\n",
       "    <tr>\n",
       "      <th>tv_or_radio_diff_2.0</th>\n",
       "      <td>2241</td>\n",
       "      <td>0.52(0.44,0.63)</td>\n",
       "      <td>0.000</td>\n",
       "    </tr>\n",
       "  </tbody>\n",
       "</table>\n",
       "</div>"
      ],
      "text/plain": [
       "                             Num of samples               OR  pvalues\n",
       "Variable                                                             \n",
       "majong_or_cards_diff_-1.0              3341  1.29(1.08,1.53)    0.005\n",
       "majong_or_cards_diff_1.0               1499  0.58(0.42,0.81)    0.001\n",
       "majong_or_cards_diff_2.0               1129  0.37(0.24,0.56)    0.000\n",
       "plant_flower_bird_diff_-1.0            3315  1.44(1.11,1.87)    0.006\n",
       "plant_flower_bird_diff_1.0             1003  0.61(0.43,0.87)    0.006\n",
       "plant_flower_bird_diff_2.0             2196  0.47(0.36,0.62)    0.000\n",
       "tv_or_radio_diff_-1.0                  5503  2.51(2.19,2.87)    0.000\n",
       "tv_or_radio_diff_1.0                   2569  0.91(0.76,1.09)    0.314\n",
       "tv_or_radio_diff_2.0                   2241  0.52(0.44,0.63)    0.000"
      ]
     },
     "execution_count": 34,
     "metadata": {},
     "output_type": "execute_result"
    }
   ],
   "source": [
    "output3.loc[list(set(output3.index)-set(output1.Variable)),:].sort_values(by = 'Variable')"
   ]
  },
  {
   "cell_type": "code",
   "execution_count": 35,
   "metadata": {},
   "outputs": [
    {
     "data": {
      "text/plain": [
       "0.000     12606\n",
       "-1.000     1820\n",
       "1.000      1788\n",
       "-4.000     1638\n",
       "4.000      1288\n",
       "-3.000     1149\n",
       "3.000       953\n",
       "-2.000      896\n",
       "2.000       781\n",
       "5.000         1\n",
       "Name: tv_or_radio_diff, dtype: int64"
      ]
     },
     "execution_count": 35,
     "metadata": {},
     "output_type": "execute_result"
    }
   ],
   "source": [
    "total_df_for_logit.tv_or_radio_diff.value_counts()"
   ]
  }
 ],
 "metadata": {
  "kernelspec": {
   "display_name": "Python 3",
   "language": "python",
   "name": "python3"
  },
  "language_info": {
   "codemirror_mode": {
    "name": "ipython",
    "version": 3
   },
   "file_extension": ".py",
   "mimetype": "text/x-python",
   "name": "python",
   "nbconvert_exporter": "python",
   "pygments_lexer": "ipython3",
   "version": "3.7.4"
  }
 },
 "nbformat": 4,
 "nbformat_minor": 4
}
